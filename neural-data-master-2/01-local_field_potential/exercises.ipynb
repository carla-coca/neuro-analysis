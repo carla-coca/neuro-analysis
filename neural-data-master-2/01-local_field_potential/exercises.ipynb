{
 "cells": [
  {
   "cell_type": "markdown",
   "metadata": {},
   "source": [
    "## Exercise 1: explore filter parameters\n",
    "---\n",
    "In this exercises you will explore how different parameters affect the filtering process.\n",
    "- Import the data form `data/moving_lfp.pickle` (the file is already on your machine if you run the `download_data()` cell in the main lesson)\n",
    "- Take a few seconds of the data, and filter them in different frequency bands. Plot the resulting signal.\n",
    "  Fix the central frequency and play with the width of the band, then try to change the central frequency of the band.\n",
    "- Change the order of the filter, keeping the frequency band fixed. How does the filtered signal change? How does the computing time change? (You can try to quantify the computing time with the jupyter magic command [`%timeit`](https://docs.python.org/3/library/timeit.html): The higher the order, the higher the computational time is\n",
    "- Comment on what you see: \n",
    "- When experimenting with bandwidth, I noticed that narrower bands tend to preserve fewer oscillations in the signal. In contrast, using a broader band retains more of the original signal’s complexity, allowing more of the underlying activity to come through.\n",
    "- Changing the central frequency of the filter also had a noticeable effect. Filters centered around higher frequencies produced signals that appeared faster, with more rapid oscillations visible in the output.\n",
    "- As for the filter order, increasing it resulted in a sharper frequency cutoff, which helped isolate the desired band more precisely. However, this required a longer computation time. I also observed that higher-order filters introduced more noticeable phase distortion or delay, especially in narrower bands. In some cases, very high orders even made the filter a bit unstable, which affected the clarity of the output signal."
   ]
  },
  {
   "cell_type": "markdown",
   "metadata": {},
   "source": [
    "## Exercise 2: wavelet transform with real wavelets\n",
    "---\n",
    "In this exercises you will explore the difference between real and complex wavelets in the continous wavelet transform.\n",
    "- Import the data form `data/moving_lfp.pickle`\n",
    "- Select a period of a few seconds of the signal and compute the spectrogram. \n",
    "  Try the wavelet transform with wavelet `mexh` (mexican hat),`gaus` (gaussian) and `morl` (morlet). These are all real wavelets.\n",
    "- What differences do you see with respect to the spectrum computed with the complex Morlet tranform ? Comment on why do you think this might be the case.\n",
    "- The spectrograms using real wavelets like 'mexh', 'gaus1', and 'morl' appear smoother but often show less precise temporal or frequency detail compared to the complex Morlet wavelet ('cmor1.0-1.0'). The complex wavelet captures phase information and produces sharper frequency localization, which makes oscillatory features (like theta or gamma bands) more visible and better resolved over time.\n",
    "- Real wavelets (like 'mexh') are symmetric and don’t have an imaginary part, so they can't capture phase. This limits their resolution in the time-frequency tradeoff — they’re better for detecting broad features (like edges or changes) but not as good for detailed oscillatory activity. The complex Morlet wavelet contains both sine and cosine components, allowing it to track both amplitude and phase, which is why it gives clearer power estimates for rhythmic components."
   ]
  },
  {
   "cell_type": "markdown",
   "metadata": {},
   "source": [
    "## Exercise 3: REM sleep detection\n",
    "---\n",
    "Mammalian sleep is organized in different phases. [Rapid Eye Movement (REM) sleep](https://en.wikipedia.org/wiki/Rapid_eye_movement_sleep) is a well studied phase, with clear markers that make it detectable from LFP data. One of the most used marker is the ratio (or difference) between the oscillatory power in the theta and delta bands in the hippocampus. During REM sleep, the former dominates, in a pattern that resembles active behaviour.  \n",
    "In this exercise we will use the tools we learned about to detect and inspect the REM and non-REM (nREM) phases of sleep in data recorded from the hippocampus of a sleeping mouse.\n",
    "\n",
    "- Import the data form `data/moving_lfp.pickle`\n",
    "- Compute the instantaneous power in the theta (6-10 Hz) and delta (2-4 Hz) frequency bands, for the whole signal.\n",
    "- z-score the two power signals (subtract the mean and divide by the standard deviation, you can use `scipy.stats.zscore()`)\n",
    "- Compute and plot the power difference (`theta_power - delta_power`) for the sleep session.\n",
    "- Compute the REM (power difference $>0.2$) and nREM (power diffewrence $<0.2$) sleep periods.\n",
    "- Plot examples of REM vs nREM lfp signals (wideband filtered betw. 1 and 200 Hz to get rid of some of the noise).\n",
    "- Explore how changing the threshold affects the amount of REM sleep detected.\n",
    "- By comparing theta and delta power using continuous wavelet transform, we found that REM sleep can be identified where theta dominates (theta - delta power > 0.2). The LFP signal during REM tends to show more rhythmic theta activity, while nREM is more irregular or dominated by slower waves. Adjusting the threshold changes how much of the session is classified as REM — higher thresholds detect fewer, but more confident REM episodes."
   ]
  }
 ],
 "metadata": {
  "kernelspec": {
   "display_name": "Python 3 (ipykernel)",
   "language": "python",
   "name": "python3"
  },
  "language_info": {
   "codemirror_mode": {
    "name": "ipython",
    "version": 3
   },
   "file_extension": ".py",
   "mimetype": "text/x-python",
   "name": "python",
   "nbconvert_exporter": "python",
   "pygments_lexer": "ipython3",
   "version": "3.10.8"
  },
  "vscode": {
   "interpreter": {
    "hash": "31f2aee4e71d21fbe5cf8b01ff0e069b9275f58929596ceb00d14d90e3e16cd6"
   }
  }
 },
 "nbformat": 4,
 "nbformat_minor": 4
}
